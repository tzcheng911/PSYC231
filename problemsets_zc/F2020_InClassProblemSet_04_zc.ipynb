{
 "cells": [
  {
   "cell_type": "markdown",
   "metadata": {},
   "source": [
    "# In class exercises for 11.02.2020 (Filtering)"
   ]
  },
  {
   "cell_type": "markdown",
   "metadata": {},
   "source": [
    "## First import data from eeg_data00.npz"
   ]
  },
  {
   "cell_type": "code",
   "execution_count": 3,
   "metadata": {},
   "outputs": [],
   "source": [
    "# first import the modules that you'll need: numpy, matplotlib.pyplot, my_brick_filt \n",
    "import numpy as np\n",
    "import matplotlib.pyplot as plt\n",
    "import my_brick_filt as mf "
   ]
  },
  {
   "cell_type": "markdown",
   "metadata": {},
   "source": [
    "## Just like in the first FFT tutorial load eeg_data00.npz so that we have an EEG data set to play with\n",
    "* you should find that it has three arrays: data, tx, and sr (with 'data' a #trials x # timepoints array containing the EEG data, the time of each data acquisition in tx, and the sample rate stored as sr).  "
   ]
  },
  {
   "cell_type": "code",
   "execution_count": 5,
   "metadata": {},
   "outputs": [
    {
     "name": "stdout",
     "output_type": "stream",
     "text": [
      "Shape of the big eeg data set:  (960, 876)\n",
      "Sample rate:  250\n"
     ]
    }
   ],
   "source": [
    "# load the data...\n",
    "eeg = np.load('eeg_data00.npz')\n",
    "\n",
    "# get the different arrays like this...kind of like a structure in matlab. \n",
    "eeg['data']\n",
    "eeg['sr']\n",
    "eeg['tx']\n",
    "\n",
    "# and can query the attributes of the data like this...which will tell us that there 960 trials and 876 timepoints per trial sampled\n",
    "# at 250Hz\n",
    "print('Shape of the big eeg data set: ', eeg['data'].shape)\n",
    "print('Sample rate: ', eeg['sr'])\n",
    "\n",
    "# and if you want to save some typing, especially because we only have a few variables, you reassign the different arrays like this\n",
    "data = eeg['data']\n",
    "sr = eeg['sr']\n",
    "tx = eeg['tx']\n",
    "# now you can just write data instead of eeg['data'] (and can for tx and sr as well...)"
   ]
  },
  {
   "cell_type": "markdown",
   "metadata": {},
   "source": [
    "## Like last week: extract the data from time 0 until time 2000\n",
    "* hint: you can use boolean indexing by selecting the columns from the 'data' matrix that meet: (tx>=0)  & (tx<2000)\n",
    "* while you're at it, go ahead and grab the timepoints corresponding to that interval as well"
   ]
  },
  {
   "cell_type": "code",
   "execution_count": 12,
   "metadata": {
    "scrolled": true
   },
   "outputs": [],
   "source": [
    "epoch = data[:,((tx>=0) & (tx<2000))]\n",
    "epoch_time = tx[(tx>=0) & (tx<2000)]"
   ]
  },
  {
   "cell_type": "markdown",
   "metadata": {},
   "source": [
    "## Then FFT each trial and take a look at the average power across frequencies\n",
    "* FFT each trial \n",
    "* Then compute the amplitude on each trial\n",
    "* Then compute the average amplitude across all trials"
   ]
  },
  {
   "cell_type": "code",
   "execution_count": 16,
   "metadata": {},
   "outputs": [
    {
     "data": {
      "image/png": "[encoded data removed]",
      "text/plain": [
       "<Figure size 432x288 with 1 Axes>"
      ]
     },
     "metadata": {
      "needs_background": "light"
     },
     "output_type": "display_data"
    }
   ],
   "source": [
    "sp = np.fft.rfft(epoch,axis = 1)\n",
    "amp = np.abs(sp)/len(epoch_time) * 2\n",
    "mean_amp = np.mean(amp, axis = 0)\n",
    "freq = np.fft.rfftfreq(len(epoch_time), 1/sr)\n",
    "\n",
    "plt.plot(freq,mean_amp)\n",
    "plt.xlabel('Frequency (Hz)')\n",
    "plt.ylabel('Normalized amplitude')\n",
    "plt.show()"
   ]
  },
  {
   "cell_type": "markdown",
   "metadata": {},
   "source": [
    "## Notice that there are two prominent features in the freq domain representation. Make a lp filter that gets rid of power > 20Hz (you'll know if it worked if you get rid of the spike at 60Hz)\n",
    "* Because our apply_filter function isn't optimized to work on matrices (we could do that, but haven't) you will need to loop and apply filter to each trial\n",
    "* bonus if you finish the other stuff: make the apply_filt function matrisized! pay attention to the dimension of the data you are passing into the fft function - you want to fft across time! I wrote one and included it in my \"my_brick_filter\" .py file if you want to see one way to do it or to check your work..."
   ]
  },
  {
   "cell_type": "code",
   "execution_count": 25,
   "metadata": {},
   "outputs": [],
   "source": [
    "lp_filt = mf.define_filt(fx=freq, filt_freq=20, type_filt='lp')\n",
    "r,c = np.shape(epoch)\n",
    "filt_sig = np.zeros_like(epoch)\n",
    "for i in np.arange(0,r):\n",
    "    filt_sig[i,:] = mf.apply_filt(input_sig=epoch[i,:], input_filter=lp_filt)"
   ]
  },
  {
   "cell_type": "markdown",
   "metadata": {},
   "source": [
    "## Then FFT it again to see if you got rid of the hf components of the signal"
   ]
  },
  {
   "cell_type": "code",
   "execution_count": 28,
   "metadata": {},
   "outputs": [
    {
     "data": {
      "image/png": "[encoded data removed]",
      "text/plain": [
       "<Figure size 432x288 with 1 Axes>"
      ]
     },
     "metadata": {
      "needs_background": "light"
     },
     "output_type": "display_data"
    }
   ],
   "source": [
    "sp = np.fft.rfft(filt_sig,axis = 1)\n",
    "amp = np.abs(sp)/len(epoch_time) * 2\n",
    "mean_amp = np.mean(amp, axis = 0)\n",
    "freq = np.fft.rfftfreq(len(epoch_time), 1/sr)\n",
    "\n",
    "plt.plot(freq,mean_amp)\n",
    "plt.xlabel('Frequency (Hz)')\n",
    "plt.ylabel('Normalized amplitude')\n",
    "plt.show()"
   ]
  },
  {
   "cell_type": "markdown",
   "metadata": {},
   "source": [
    "## Now design a band pass filter that gets rid of everything outside of the 6-14Hz range (where that big bump is...)\n",
    "* To design a band pass filter, make a lp filter, then make a hp filter\n",
    "* Then combine the two filters so that the frequencies you want are marked with a \"1\" in the filter and those that you don't want are marked with a \"0\" in the filter. \n",
    "* Then call the apply_filt function\n",
    "* Then you should be left with only those frequencies that pass the lp and the hp filters (i.e. a band pass filter)!"
   ]
  },
  {
   "cell_type": "code",
   "execution_count": 31,
   "metadata": {},
   "outputs": [],
   "source": [
    "lp_filt = mf.define_filt(fx=freq, filt_freq=14, type_filt='lp')\n",
    "hp_filt = mf.define_filt(fx=freq, filt_freq=6, type_filt='hp')\n",
    "bp_filt = np.multiply(lp_filt,hp_filt)"
   ]
  },
  {
   "cell_type": "code",
   "execution_count": 33,
   "metadata": {},
   "outputs": [],
   "source": [
    "filt_sig = np.zeros_like(epoch)\n",
    "for i in np.arange(0,r):\n",
    "    filt_sig[i,:] = mf.apply_filt(input_sig=epoch[i,:], input_filter=bp_filt)"
   ]
  },
  {
   "cell_type": "markdown",
   "metadata": {},
   "source": [
    "## Then FFT and look at filtered signal in the time and frequency domains (time domain on one plot, and freq on the other)"
   ]
  },
  {
   "cell_type": "code",
   "execution_count": 34,
   "metadata": {
    "scrolled": true
   },
   "outputs": [
    {
     "data": {
      "image/png": "[encoded data removed]",
      "text/plain": [
       "<Figure size 432x288 with 1 Axes>"
      ]
     },
     "metadata": {
      "needs_background": "light"
     },
     "output_type": "display_data"
    }
   ],
   "source": [
    "sp = np.fft.rfft(filt_sig,axis = 1)\n",
    "amp = np.abs(sp)/len(epoch_time) * 2\n",
    "mean_amp = np.mean(amp, axis = 0)\n",
    "freq = np.fft.rfftfreq(len(epoch_time), 1/sr)\n",
    "\n",
    "plt.plot(freq,mean_amp)\n",
    "plt.xlabel('Frequency (Hz)')\n",
    "plt.ylabel('Normalized amplitude')\n",
    "plt.show()"
   ]
  },
  {
   "cell_type": "markdown",
   "metadata": {},
   "source": [
    "## You can also make a band-stop filter using a similar logic\n",
    "* A band stop filter will reduce the amplitude of a specific range of frequencies - often used for removing an artifact like line noise (60Hz AC noise) from physiological recordings!\n",
    "* Think for a minute, or maybe sketch out, what this kind of a filter should look like\n",
    "* Use this to selectively get rid of the 60Hz line noise in the data by generated a band-stop filter over 50-70Hz"
   ]
  },
  {
   "cell_type": "code",
   "execution_count": 41,
   "metadata": {
    "scrolled": true
   },
   "outputs": [],
   "source": [
    "lp_filt = mf.define_filt(fx=freq, filt_freq=14, type_filt='hp')\n",
    "hp_filt = mf.define_filt(fx=freq, filt_freq=6, type_filt='lp')\n",
    "bp_filt = lp_filt + hp_filt"
   ]
  },
  {
   "cell_type": "code",
   "execution_count": 43,
   "metadata": {},
   "outputs": [],
   "source": [
    "filt_sig = np.zeros_like(epoch)\n",
    "for i in np.arange(0,r):\n",
    "    filt_sig[i,:] = mf.apply_filt(input_sig=epoch[i,:], input_filter=bp_filt)"
   ]
  },
  {
   "cell_type": "markdown",
   "metadata": {},
   "source": [
    "## Then FFT and look at filtered signal in the frequency domain"
   ]
  },
  {
   "cell_type": "code",
   "execution_count": 44,
   "metadata": {},
   "outputs": [
    {
     "data": {
      "image/png": "[encoded data removed]",
      "text/plain": [
       "<Figure size 432x288 with 1 Axes>"
      ]
     },
     "metadata": {
      "needs_background": "light"
     },
     "output_type": "display_data"
    }
   ],
   "source": [
    "sp = np.fft.rfft(filt_sig,axis = 1)\n",
    "amp = np.abs(sp)/len(epoch_time) * 2\n",
    "mean_amp = np.mean(amp, axis = 0)\n",
    "freq = np.fft.rfftfreq(len(epoch_time), 1/sr)\n",
    "\n",
    "plt.plot(freq,mean_amp)\n",
    "plt.xlabel('Frequency (Hz)')\n",
    "plt.ylabel('Normalized amplitude')\n",
    "plt.show()"
   ]
  },
  {
   "cell_type": "markdown",
   "metadata": {},
   "source": [
    "# BONUS: Read the end of the tutorial and figure out to do this all more gracefully using blackman windowed filters :) "
   ]
  }
 ],
 "metadata": {
  "kernelspec": {
   "display_name": "Python 3",
   "language": "python",
   "name": "python3"
  },
  "language_info": {
   "codemirror_mode": {
    "name": "ipython",
    "version": 3
   },
   "file_extension": ".py",
   "mimetype": "text/x-python",
   "name": "python",
   "nbconvert_exporter": "python",
   "pygments_lexer": "ipython3",
   "version": "3.7.6"
  }
 },
 "nbformat": 4,
 "nbformat_minor": 2
}
