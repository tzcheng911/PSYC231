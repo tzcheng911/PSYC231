{
 "cells": [
  {
   "cell_type": "markdown",
   "metadata": {},
   "source": [
    "### 1) Make a list of numbers from 0 to 30 but only include every other number (counting by2’s). Your list **should** include the number 30 (so: 0,2,4....30). Use slicing to:\n",
    "\n",
    "* Print out the first 4 numbers from the list.\n",
    "* Print out the last 4 numbers from the list.\n",
    "* Print out every other number, starting with the 3rd number and going to the end of the list\n",
    "* Print out the list backwards"
   ]
  },
  {
   "cell_type": "code",
   "execution_count": 23,
   "metadata": {},
   "outputs": [
    {
     "name": "stdout",
     "output_type": "stream",
     "text": [
      "[0, 2, 4, 6]\n",
      "[24, 26, 28, 30]\n",
      "[4, 8, 12, 16, 20, 24, 28]\n",
      "[30, 28, 26, 24, 22, 20, 18, 16, 14, 12, 10, 8, 6, 4, 2, 0]\n"
     ]
    }
   ],
   "source": [
    "x = list(range(0,31,2))\n",
    "print(x[:4])\n",
    "print(x[-4:])\n",
    "print(x[2::2])\n",
    "print(x[::-1])"
   ]
  },
  {
   "cell_type": "markdown",
   "metadata": {},
   "source": [
    "### 2) Make a list of numbers that 0,1,2,3,4. Assign that list to the variable “lst1”. Then make another variable “lst2” and assign lst2 to take on the values of lst1.\n",
    "\n",
    "* Square the first value of lst1 and make sure that the value in the list is updated. For example, lst1[0]=lst1[0]**2.\n",
    "* Subtract 3 from the 3rd element of lst1 and make sure that the value in the list is updated (as in step a).\n",
    "* Test to see if the value -1 is in lst1 - True or False?\n",
    "* Test to see if the value 5 is not in lst1 - True or False?\n",
    "* If -1 is in lst2 then start over and follow the directions, but this time set up lst2 so that it does not change when you modify lst1."
   ]
  },
  {
   "cell_type": "code",
   "execution_count": 24,
   "metadata": {},
   "outputs": [],
   "source": [
    "lst1 = list(range(0,5,1))\n",
    "lst2 = lst1[:]"
   ]
  },
  {
   "cell_type": "code",
   "execution_count": 25,
   "metadata": {},
   "outputs": [
    {
     "name": "stdout",
     "output_type": "stream",
     "text": [
      "True\n",
      "True\n",
      "False\n",
      "[0, 1, -1, 3, 4]\n"
     ]
    }
   ],
   "source": [
    "lst1[0] = lst1[0]**2\n",
    "lst1[2] = lst1[2]-3\n",
    "print(-1 in lst1)\n",
    "print(5 not in lst1)\n",
    "print(-1 in lst2)\n",
    "print(lst1)"
   ]
  },
  {
   "cell_type": "markdown",
   "metadata": {},
   "source": [
    "### 3) Roy and Pam want to create and maintain a list of the kids in the neighbourhood. They also want to add the kids’ ages right after their respective names. Help Roy and Pam with this.\n",
    "* Make separate lists, each containing the name of the kid as the first item and ageof the kid as the second item. Eg. kid1 = [‘Sara’, 12]. Make 4 such lists.\n",
    "* Roy uses the concatenated list approach. He makes a master list called“concat_list” with contents of all lists as elements of the master_list. Eg. [‘Sara’,\n",
    "12, ‘Maya’, 13.........]. Make this list for Roy and print it. (Use lists created in parta)\n",
    "* Pam uses the “list in a list” approach. She makes the master list and calls it“list_in_list” and it looks like this : [[‘Sara’, 12], [‘Maya’, 13], ........]. Make this listfor Pam and print it. (Use lists created in part a)\n",
    "* They revisit the lists in two years and they both must increment the age of all kidsby two years now. Do this increment in both “concat_list” and “list_in_list” andprint both.\n",
    "* They realise that one kid has left the neighbourhood. Delete one kid’s entry from both the lists and print updated lists.f)There has been an addition of a new kid, Nate ( 5 years old ), to theneighbourhood. Add his details to both lists and print updated lists."
   ]
  },
  {
   "cell_type": "code",
   "execution_count": 2,
   "metadata": {},
   "outputs": [],
   "source": [
    "## part A\n",
    "kid1 = ['Sara',12]\n",
    "kid2 = ['Maya',15]\n",
    "kid3 = ['Zoe',3]\n",
    "kid4 = ['Dan',10]"
   ]
  },
  {
   "cell_type": "code",
   "execution_count": 3,
   "metadata": {},
   "outputs": [
    {
     "name": "stdout",
     "output_type": "stream",
     "text": [
      "['Sara', 12, 'Maya', 15, 'Zoe', 3, 'Dan', 10]\n"
     ]
    }
   ],
   "source": [
    "## part B\n",
    "concat_list = kid1 + kid2 + kid3 + kid4\n",
    "print(concat_list)"
   ]
  },
  {
   "cell_type": "code",
   "execution_count": 4,
   "metadata": {},
   "outputs": [
    {
     "name": "stdout",
     "output_type": "stream",
     "text": [
      "[['Sara', 12], ['Maya', 15], ['Zoe', 3], ['Dan', 10]]\n"
     ]
    }
   ],
   "source": [
    "## part C\n",
    "list_in_list = [kid1, kid2, kid3, kid4]\n",
    "print(list_in_list)"
   ]
  },
  {
   "cell_type": "code",
   "execution_count": 6,
   "metadata": {},
   "outputs": [
    {
     "name": "stdout",
     "output_type": "stream",
     "text": [
      "['Sara', 14, 'Maya', 17, 'Zoe', 5, 'Dan', 12]\n",
      "[['Sara', 14], ['Maya', 17], ['Zoe', 5], ['Dan', 12]]\n"
     ]
    }
   ],
   "source": [
    "## part D\n",
    "for i in range(len(concat_list)):\n",
    "    if type(concat_list[i]) == int:\n",
    "        concat_list[i] += 2\n",
    "print(concat_list)\n",
    "\n",
    "for i in list_in_list:\n",
    "    i[1] += 2\n",
    "print(list_in_list)"
   ]
  },
  {
   "cell_type": "code",
   "execution_count": null,
   "metadata": {},
   "outputs": [],
   "source": [
    "## part E\n",
    "del concat_list[0:1]\n",
    "print(concat_list)\n",
    "del list_in_list[0]\n",
    "print(list_in_list)"
   ]
  },
  {
   "cell_type": "code",
   "execution_count": null,
   "metadata": {},
   "outputs": [],
   "source": [
    "concat_list.extend(['Nate',5])\n",
    "print(concat_list)\n",
    "list_in_list.append(['Nate',5])\n",
    "print(list_in_list)"
   ]
  },
  {
   "cell_type": "markdown",
   "metadata": {},
   "source": [
    "### 4) Imagine you are have a computer program that remembers each word you type for one minute and outputs the words you have typed as a list with each element being one word, but there is an inexplicable number of spaces at the end of each string. While you may be able to fix the program putting in these spaces in the first place, you challenge yourself programmatically determine the shortest word in the list and print it despite these spaces.\n",
    "\n",
    "**Note**: You solved this problem last week, but this week solve it using a for-loop. If you are like me, you may find this to be a more intuitive way to solve this problem. \n",
    "\n",
    "**Hint**: The sorted function has an optional argument key that you can pass a function to such that sorted uses that function to determine the order of sorting."
   ]
  },
  {
   "cell_type": "code",
   "execution_count": 2,
   "metadata": {},
   "outputs": [],
   "source": [
    "words_lst = ['banana ', ' peanut  ', 'xylophone  ', 'aardvark  ', 'foot       ', 'python    ']"
   ]
  },
  {
   "cell_type": "code",
   "execution_count": 9,
   "metadata": {},
   "outputs": [],
   "source": [
    "for i in range(0,len(words_lst)):\n",
    "    words_lst[i] = words_lst[i].strip()"
   ]
  },
  {
   "cell_type": "code",
   "execution_count": 10,
   "metadata": {},
   "outputs": [
    {
     "data": {
      "text/plain": [
       "['banana', 'peanut', 'xylophone', 'aardvark', 'foot', 'python']"
      ]
     },
     "execution_count": 10,
     "metadata": {},
     "output_type": "execute_result"
    }
   ],
   "source": [
    "words_lst"
   ]
  },
  {
   "cell_type": "code",
   "execution_count": 12,
   "metadata": {},
   "outputs": [
    {
     "data": {
      "text/plain": [
       "['foot', 'banana', 'peanut', 'python', 'aardvark', 'xylophone']"
      ]
     },
     "execution_count": 12,
     "metadata": {},
     "output_type": "execute_result"
    }
   ],
   "source": [
    "sorted(words_lst,key = len)"
   ]
  },
  {
   "cell_type": "markdown",
   "metadata": {},
   "source": [
    "### 5) You are an administrative assistant for a small company. As part of your job as an administrative assistant, you are in charge of payroll for the company's five employees. Each of the employees receives a 3% raise each year. Every five years that an employee is a part of the company, they receive a 5,000 USD increase to their salary on top of the 3% raise (the 3% is applied before the 5,000 USD bonus). \n",
    "\n",
    "The five employees are:\n",
    "* Petunia has been at the company 3 years and her salary is 55,000 USD\n",
    "* Severus has been at the company 16 years and his salary is 85,000 USD\n",
    "* Albus has been at the company 30 years and his salary is 115,000 USD\n",
    "* Ginny has been at the company 8 years and her salary is 75,000 USD\n",
    "* Harry just started at the company and his salary is 50,000 USD\n",
    "\n",
    "Here are your tasks:\n",
    "* a) Calculate and print the salary of each employee 5 years from now.\n",
    "* b) Determine and  print what the total payroll will be in 20 years, assuming nobody new starts and nobody leaves the company.\n",
    "* c) Calculate and print the starting salary of each employee, assuming the same protocol for raises had been in place all along."
   ]
  },
  {
   "cell_type": "markdown",
   "metadata": {},
   "source": [
    "### a."
   ]
  },
  {
   "cell_type": "code",
   "execution_count": 4,
   "metadata": {},
   "outputs": [],
   "source": [
    "def calc_salary(time, base):\n",
    "    if time >= 5:\n",
    "       salary =  base * (1.03**5) + 5\n",
    "    else:\n",
    "        salary = base * (1.03**5)\n",
    "    return salary"
   ]
  },
  {
   "cell_type": "code",
   "execution_count": 5,
   "metadata": {},
   "outputs": [],
   "source": [
    "employees = [['Petunia',3,55],['Severus',16,85],['Albus',30,115],['Ginny',8,75],['Harry',0,50]]"
   ]
  },
  {
   "cell_type": "code",
   "execution_count": 6,
   "metadata": {},
   "outputs": [
    {
     "name": "stdout",
     "output_type": "stream",
     "text": [
      "68.7600740865\n",
      "103.5382963155\n",
      "138.3165185445\n",
      "91.9455555725\n",
      "62.963703715\n"
     ]
    }
   ],
   "source": [
    "for i in range(0,len(employees)):\n",
    "    employees[i][1] += 5\n",
    "    print(calc_salary(employees[i][1],employees[i][2]))"
   ]
  },
  {
   "cell_type": "code",
   "execution_count": 32,
   "metadata": {},
   "outputs": [
    {
     "name": "stdout",
     "output_type": "stream",
     "text": [
      "[['Petunia', 8, 55], ['Severus', 21, 85], ['Albus', 35, 115], ['Ginny', 13, 75], ['Harry', 5, 50]]\n"
     ]
    }
   ],
   "source": [
    "print(employees)"
   ]
  },
  {
   "cell_type": "markdown",
   "metadata": {},
   "source": [
    "### 6) The pandemic is over and you are lucky enough to be a contestant on the next season of The Amazing Race. You have traversed the world over the course of the first 11 legs, succeeding in each leg. Now, as the final leg and 1,000,000 lays on the line, you need to be at your best and make quick time. You know the final leg will take you back to the US, as it always does, but where should you be heading?\n",
    "\n",
    "* a) You are in Sydney, Australia, where the last leg finished, but have not been told where in the US to fly to. Instead, you have been given the following clue which you must decode: *nohj lrofo vfei cmglil lhla*. It strikes you that they may have just scrambled the letters of each word. Fortunately, following the Neural Data Analysis class you took last fall, you are a Python aficionado and are able to borrow a computer from the local library in Sydney. You think you can use Python to brute force enumerate all the permutations of each word rather than trying to come up with the words on your own. A quick Google search helped you find the *permute_str* function below on Stack Overflow. Use this function and a for loop to print all the permutations for each word. \n",
    "* b) Looking through the permutations, can you figure out what each word should be? \n",
    "* c) One of the words should give away where you should be flying to. Once you figure this out, you hurry to schedule the soonest flight there from Sydney. Where will you be heading?\n",
    "\n",
    "* ***bonus*** Make your program cooler and more human usable by reading this [post](https://www.tutorialspoint.com/python_text_processing/python_spelling_check.htm)"
   ]
  },
  {
   "cell_type": "code",
   "execution_count": 20,
   "metadata": {},
   "outputs": [],
   "source": [
    "# run this cell to import the permutations function and to define the permute_str function\n",
    "from itertools import permutations\n",
    "\n",
    "def permute_str(s):\n",
    "    return [''.join(p) for p in permutations(s)]"
   ]
  },
  {
   "cell_type": "code",
   "execution_count": 21,
   "metadata": {},
   "outputs": [
    {
     "name": "stdout",
     "output_type": "stream",
     "text": [
      "['nohj', 'nojh', 'nhoj', 'nhjo', 'njoh', 'njho', 'onhj', 'onjh', 'ohnj', 'ohjn', 'ojnh', 'ojhn', 'hnoj', 'hnjo', 'honj', 'hojn', 'hjno', 'hjon', 'jnoh', 'jnho', 'jonh', 'john', 'jhno', 'jhon']\n",
      "['lrofo', 'lroof', 'lrfoo', 'lrfoo', 'lroof', 'lrofo', 'lorfo', 'lorof', 'lofro', 'lofor', 'loorf', 'loofr', 'lfroo', 'lfroo', 'lforo', 'lfoor', 'lforo', 'lfoor', 'lorof', 'lorfo', 'loorf', 'loofr', 'lofro', 'lofor', 'rlofo', 'rloof', 'rlfoo', 'rlfoo', 'rloof', 'rlofo', 'rolfo', 'rolof', 'roflo', 'rofol', 'roolf', 'roofl', 'rfloo', 'rfloo', 'rfolo', 'rfool', 'rfolo', 'rfool', 'rolof', 'rolfo', 'roolf', 'roofl', 'roflo', 'rofol', 'olrfo', 'olrof', 'olfro', 'olfor', 'olorf', 'olofr', 'orlfo', 'orlof', 'orflo', 'orfol', 'orolf', 'orofl', 'oflro', 'oflor', 'ofrlo', 'ofrol', 'ofolr', 'oforl', 'oolrf', 'oolfr', 'oorlf', 'oorfl', 'ooflr', 'oofrl', 'flroo', 'flroo', 'floro', 'floor', 'floro', 'floor', 'frloo', 'frloo', 'frolo', 'frool', 'frolo', 'frool', 'folro', 'folor', 'forlo', 'forol', 'foolr', 'foorl', 'folro', 'folor', 'forlo', 'forol', 'foolr', 'foorl', 'olrof', 'olrfo', 'olorf', 'olofr', 'olfro', 'olfor', 'orlof', 'orlfo', 'orolf', 'orofl', 'orflo', 'orfol', 'oolrf', 'oolfr', 'oorlf', 'oorfl', 'ooflr', 'oofrl', 'oflro', 'oflor', 'ofrlo', 'ofrol', 'ofolr', 'oforl']\n",
      "['vfei', 'vfie', 'vefi', 'veif', 'vife', 'vief', 'fvei', 'fvie', 'fevi', 'feiv', 'five', 'fiev', 'evfi', 'evif', 'efvi', 'efiv', 'eivf', 'eifv', 'ivfe', 'ivef', 'ifve', 'ifev', 'ievf', 'iefv']\n",
      "['cmglil', 'cmglli', 'cmgill', 'cmgill', 'cmglli', 'cmglil', 'cmlgil', 'cmlgli', 'cmligl', 'cmlilg', 'cmllgi', 'cmllig', 'cmigll', 'cmigll', 'cmilgl', 'cmillg', 'cmilgl', 'cmillg', 'cmlgli', 'cmlgil', 'cmllgi', 'cmllig', 'cmligl', 'cmlilg', 'cgmlil', 'cgmlli', 'cgmill', 'cgmill', 'cgmlli', 'cgmlil', 'cglmil', 'cglmli', 'cgliml', 'cglilm', 'cgllmi', 'cgllim', 'cgimll', 'cgimll', 'cgilml', 'cgillm', 'cgilml', 'cgillm', 'cglmli', 'cglmil', 'cgllmi', 'cgllim', 'cgliml', 'cglilm', 'clmgil', 'clmgli', 'clmigl', 'clmilg', 'clmlgi', 'clmlig', 'clgmil', 'clgmli', 'clgiml', 'clgilm', 'clglmi', 'clglim', 'climgl', 'climlg', 'cligml', 'cliglm', 'clilmg', 'clilgm', 'cllmgi', 'cllmig', 'cllgmi', 'cllgim', 'cllimg', 'clligm', 'cimgll', 'cimgll', 'cimlgl', 'cimllg', 'cimlgl', 'cimllg', 'cigmll', 'cigmll', 'ciglml', 'cigllm', 'ciglml', 'cigllm', 'cilmgl', 'cilmlg', 'cilgml', 'cilglm', 'cillmg', 'cillgm', 'cilmgl', 'cilmlg', 'cilgml', 'cilglm', 'cillmg', 'cillgm', 'clmgli', 'clmgil', 'clmlgi', 'clmlig', 'clmigl', 'clmilg', 'clgmli', 'clgmil', 'clglmi', 'clglim', 'clgiml', 'clgilm', 'cllmgi', 'cllmig', 'cllgmi', 'cllgim', 'cllimg', 'clligm', 'climgl', 'climlg', 'cligml', 'cliglm', 'clilmg', 'clilgm', 'mcglil', 'mcglli', 'mcgill', 'mcgill', 'mcglli', 'mcglil', 'mclgil', 'mclgli', 'mcligl', 'mclilg', 'mcllgi', 'mcllig', 'mcigll', 'mcigll', 'mcilgl', 'mcillg', 'mcilgl', 'mcillg', 'mclgli', 'mclgil', 'mcllgi', 'mcllig', 'mcligl', 'mclilg', 'mgclil', 'mgclli', 'mgcill', 'mgcill', 'mgclli', 'mgclil', 'mglcil', 'mglcli', 'mglicl', 'mglilc', 'mgllci', 'mgllic', 'mgicll', 'mgicll', 'mgilcl', 'mgillc', 'mgilcl', 'mgillc', 'mglcli', 'mglcil', 'mgllci', 'mgllic', 'mglicl', 'mglilc', 'mlcgil', 'mlcgli', 'mlcigl', 'mlcilg', 'mlclgi', 'mlclig', 'mlgcil', 'mlgcli', 'mlgicl', 'mlgilc', 'mlglci', 'mlglic', 'mlicgl', 'mliclg', 'mligcl', 'mliglc', 'mlilcg', 'mlilgc', 'mllcgi', 'mllcig', 'mllgci', 'mllgic', 'mllicg', 'mlligc', 'micgll', 'micgll', 'miclgl', 'micllg', 'miclgl', 'micllg', 'migcll', 'migcll', 'miglcl', 'migllc', 'miglcl', 'migllc', 'milcgl', 'milclg', 'milgcl', 'milglc', 'millcg', 'millgc', 'milcgl', 'milclg', 'milgcl', 'milglc', 'millcg', 'millgc', 'mlcgli', 'mlcgil', 'mlclgi', 'mlclig', 'mlcigl', 'mlcilg', 'mlgcli', 'mlgcil', 'mlglci', 'mlglic', 'mlgicl', 'mlgilc', 'mllcgi', 'mllcig', 'mllgci', 'mllgic', 'mllicg', 'mlligc', 'mlicgl', 'mliclg', 'mligcl', 'mliglc', 'mlilcg', 'mlilgc', 'gcmlil', 'gcmlli', 'gcmill', 'gcmill', 'gcmlli', 'gcmlil', 'gclmil', 'gclmli', 'gcliml', 'gclilm', 'gcllmi', 'gcllim', 'gcimll', 'gcimll', 'gcilml', 'gcillm', 'gcilml', 'gcillm', 'gclmli', 'gclmil', 'gcllmi', 'gcllim', 'gcliml', 'gclilm', 'gmclil', 'gmclli', 'gmcill', 'gmcill', 'gmclli', 'gmclil', 'gmlcil', 'gmlcli', 'gmlicl', 'gmlilc', 'gmllci', 'gmllic', 'gmicll', 'gmicll', 'gmilcl', 'gmillc', 'gmilcl', 'gmillc', 'gmlcli', 'gmlcil', 'gmllci', 'gmllic', 'gmlicl', 'gmlilc', 'glcmil', 'glcmli', 'glciml', 'glcilm', 'glclmi', 'glclim', 'glmcil', 'glmcli', 'glmicl', 'glmilc', 'glmlci', 'glmlic', 'glicml', 'gliclm', 'glimcl', 'glimlc', 'glilcm', 'glilmc', 'gllcmi', 'gllcim', 'gllmci', 'gllmic', 'gllicm', 'gllimc', 'gicmll', 'gicmll', 'giclml', 'gicllm', 'giclml', 'gicllm', 'gimcll', 'gimcll', 'gimlcl', 'gimllc', 'gimlcl', 'gimllc', 'gilcml', 'gilclm', 'gilmcl', 'gilmlc', 'gillcm', 'gillmc', 'gilcml', 'gilclm', 'gilmcl', 'gilmlc', 'gillcm', 'gillmc', 'glcmli', 'glcmil', 'glclmi', 'glclim', 'glciml', 'glcilm', 'glmcli', 'glmcil', 'glmlci', 'glmlic', 'glmicl', 'glmilc', 'gllcmi', 'gllcim', 'gllmci', 'gllmic', 'gllicm', 'gllimc', 'glicml', 'gliclm', 'glimcl', 'glimlc', 'glilcm', 'glilmc', 'lcmgil', 'lcmgli', 'lcmigl', 'lcmilg', 'lcmlgi', 'lcmlig', 'lcgmil', 'lcgmli', 'lcgiml', 'lcgilm', 'lcglmi', 'lcglim', 'lcimgl', 'lcimlg', 'lcigml', 'lciglm', 'lcilmg', 'lcilgm', 'lclmgi', 'lclmig', 'lclgmi', 'lclgim', 'lclimg', 'lcligm', 'lmcgil', 'lmcgli', 'lmcigl', 'lmcilg', 'lmclgi', 'lmclig', 'lmgcil', 'lmgcli', 'lmgicl', 'lmgilc', 'lmglci', 'lmglic', 'lmicgl', 'lmiclg', 'lmigcl', 'lmiglc', 'lmilcg', 'lmilgc', 'lmlcgi', 'lmlcig', 'lmlgci', 'lmlgic', 'lmlicg', 'lmligc', 'lgcmil', 'lgcmli', 'lgciml', 'lgcilm', 'lgclmi', 'lgclim', 'lgmcil', 'lgmcli', 'lgmicl', 'lgmilc', 'lgmlci', 'lgmlic', 'lgicml', 'lgiclm', 'lgimcl', 'lgimlc', 'lgilcm', 'lgilmc', 'lglcmi', 'lglcim', 'lglmci', 'lglmic', 'lglicm', 'lglimc', 'licmgl', 'licmlg', 'licgml', 'licglm', 'liclmg', 'liclgm', 'limcgl', 'limclg', 'limgcl', 'limglc', 'limlcg', 'limlgc', 'ligcml', 'ligclm', 'ligmcl', 'ligmlc', 'liglcm', 'liglmc', 'lilcmg', 'lilcgm', 'lilmcg', 'lilmgc', 'lilgcm', 'lilgmc', 'llcmgi', 'llcmig', 'llcgmi', 'llcgim', 'llcimg', 'llcigm', 'llmcgi', 'llmcig', 'llmgci', 'llmgic', 'llmicg', 'llmigc', 'llgcmi', 'llgcim', 'llgmci', 'llgmic', 'llgicm', 'llgimc', 'llicmg', 'llicgm', 'llimcg', 'llimgc', 'lligcm', 'lligmc', 'icmgll', 'icmgll', 'icmlgl', 'icmllg', 'icmlgl', 'icmllg', 'icgmll', 'icgmll', 'icglml', 'icgllm', 'icglml', 'icgllm', 'iclmgl', 'iclmlg', 'iclgml', 'iclglm', 'icllmg', 'icllgm', 'iclmgl', 'iclmlg', 'iclgml', 'iclglm', 'icllmg', 'icllgm', 'imcgll', 'imcgll', 'imclgl', 'imcllg', 'imclgl', 'imcllg', 'imgcll', 'imgcll', 'imglcl', 'imgllc', 'imglcl', 'imgllc', 'imlcgl', 'imlclg', 'imlgcl', 'imlglc', 'imllcg', 'imllgc', 'imlcgl', 'imlclg', 'imlgcl', 'imlglc', 'imllcg', 'imllgc', 'igcmll', 'igcmll', 'igclml', 'igcllm', 'igclml', 'igcllm', 'igmcll', 'igmcll', 'igmlcl', 'igmllc', 'igmlcl', 'igmllc', 'iglcml', 'iglclm', 'iglmcl', 'iglmlc', 'igllcm', 'igllmc', 'iglcml', 'iglclm', 'iglmcl', 'iglmlc', 'igllcm', 'igllmc', 'ilcmgl', 'ilcmlg', 'ilcgml', 'ilcglm', 'ilclmg', 'ilclgm', 'ilmcgl', 'ilmclg', 'ilmgcl', 'ilmglc', 'ilmlcg', 'ilmlgc', 'ilgcml', 'ilgclm', 'ilgmcl', 'ilgmlc', 'ilglcm', 'ilglmc', 'illcmg', 'illcgm', 'illmcg', 'illmgc', 'illgcm', 'illgmc', 'ilcmgl', 'ilcmlg', 'ilcgml', 'ilcglm', 'ilclmg', 'ilclgm', 'ilmcgl', 'ilmclg', 'ilmgcl', 'ilmglc', 'ilmlcg', 'ilmlgc', 'ilgcml', 'ilgclm', 'ilgmcl', 'ilgmlc', 'ilglcm', 'ilglmc', 'illcmg', 'illcgm', 'illmcg', 'illmgc', 'illgcm', 'illgmc', 'lcmgli', 'lcmgil', 'lcmlgi', 'lcmlig', 'lcmigl', 'lcmilg', 'lcgmli', 'lcgmil', 'lcglmi', 'lcglim', 'lcgiml', 'lcgilm', 'lclmgi', 'lclmig', 'lclgmi', 'lclgim', 'lclimg', 'lcligm', 'lcimgl', 'lcimlg', 'lcigml', 'lciglm', 'lcilmg', 'lcilgm', 'lmcgli', 'lmcgil', 'lmclgi', 'lmclig', 'lmcigl', 'lmcilg', 'lmgcli', 'lmgcil', 'lmglci', 'lmglic', 'lmgicl', 'lmgilc', 'lmlcgi', 'lmlcig', 'lmlgci', 'lmlgic', 'lmlicg', 'lmligc', 'lmicgl', 'lmiclg', 'lmigcl', 'lmiglc', 'lmilcg', 'lmilgc', 'lgcmli', 'lgcmil', 'lgclmi', 'lgclim', 'lgciml', 'lgcilm', 'lgmcli', 'lgmcil', 'lgmlci', 'lgmlic', 'lgmicl', 'lgmilc', 'lglcmi', 'lglcim', 'lglmci', 'lglmic', 'lglicm', 'lglimc', 'lgicml', 'lgiclm', 'lgimcl', 'lgimlc', 'lgilcm', 'lgilmc', 'llcmgi', 'llcmig', 'llcgmi', 'llcgim', 'llcimg', 'llcigm', 'llmcgi', 'llmcig', 'llmgci', 'llmgic', 'llmicg', 'llmigc', 'llgcmi', 'llgcim', 'llgmci', 'llgmic', 'llgicm', 'llgimc', 'llicmg', 'llicgm', 'llimcg', 'llimgc', 'lligcm', 'lligmc', 'licmgl', 'licmlg', 'licgml', 'licglm', 'liclmg', 'liclgm', 'limcgl', 'limclg', 'limgcl', 'limglc', 'limlcg', 'limlgc', 'ligcml', 'ligclm', 'ligmcl', 'ligmlc', 'liglcm', 'liglmc', 'lilcmg', 'lilcgm', 'lilmcg', 'lilmgc', 'lilgcm', 'lilgmc']\n",
      "['lhla', 'lhal', 'llha', 'llah', 'lahl', 'lalh', 'hlla', 'hlal', 'hlla', 'hlal', 'hall', 'hall', 'llha', 'llah', 'lhla', 'lhal', 'lalh', 'lahl', 'alhl', 'allh', 'ahll', 'ahll', 'allh', 'alhl']\n"
     ]
    }
   ],
   "source": [
    "str = 'nohj lrofo vfei cmglil lhla'\n",
    "new_str = str.split()\n",
    "for i in new_str:\n",
    "    print(permute_str(i))"
   ]
  },
  {
   "cell_type": "code",
   "execution_count": 1,
   "metadata": {},
   "outputs": [
    {
     "name": "stdout",
     "output_type": "stream",
     "text": [
      "john floor five mcgill hall\n"
     ]
    }
   ],
   "source": [
    "print('john','floor','five','mcgill','hall')"
   ]
  },
  {
   "cell_type": "code",
   "execution_count": null,
   "metadata": {},
   "outputs": [],
   "source": []
  }
 ],
 "metadata": {
  "kernelspec": {
   "display_name": "Python 3",
   "language": "python",
   "name": "python3"
  },
  "language_info": {
   "codemirror_mode": {
    "name": "ipython",
    "version": 3
   },
   "file_extension": ".py",
   "mimetype": "text/x-python",
   "name": "python",
   "nbconvert_exporter": "python",
   "pygments_lexer": "ipython3",
   "version": "3.7.6"
  }
 },
 "nbformat": 4,
 "nbformat_minor": 2
}
