{
 "cells": [
  {
   "cell_type": "markdown",
   "metadata": {},
   "source": [
    "## Exercise 1\n",
    "\n",
    "### Print the number of seconds it would take you to fold 1000 pizza boxes if you were able to maintain the world record pace of 14 pizza boxes in one minute indefinitely.\n",
    "* [link here](https://www.guinnessworldrecords.com/world-records/103587-most-pizza-boxes-folded-in-one-minute)\n",
    "\n",
    "**Bonus**: see if you can find a way to print the decimal only to the tenth's place."
   ]
  },
  {
   "cell_type": "code",
   "execution_count": 8,
   "metadata": {},
   "outputs": [],
   "source": [
    "## write code here"
   ]
  },
  {
   "cell_type": "markdown",
   "metadata": {},
   "source": [
    "Correct output: 4285.714285714286 (4285.7 for bonus)"
   ]
  },
  {
   "cell_type": "markdown",
   "metadata": {},
   "source": [
    "## Exercise 2\n",
    "\n",
    "### Imagine you are have a computer program that remembers each word you type for one minute and outputs a string of these typed words seperated by commas. Given the example string below, programmatically find word closest to the end of the alphabet that you typed and print it."
   ]
  },
  {
   "cell_type": "code",
   "execution_count": null,
   "metadata": {},
   "outputs": [],
   "source": [
    "words = 'banana,peanut,xylophone,aardvark,foot,python'\n",
    "# insert code here\n"
   ]
  },
  {
   "cell_type": "markdown",
   "metadata": {},
   "source": [
    "Correct output: xylophone"
   ]
  },
  {
   "cell_type": "markdown",
   "metadata": {},
   "source": [
    "## Exercise 3 (Challenge Problem)\n",
    "\n",
    "### Now imagine that your computer program from Exercise 2 outputs the words you have typed as a list with each element being one word, but there is an inexplicable number of spaces at the end of each string. While you may be able to fix the program putting in these spaces in the first place, you challenge yourself programmatically determine the shortest word in the list and print it despite these spaces.\n",
    "\n",
    "**Note**: This problem can be solved with methods not yet discussed in this course, but I urge you to limit yourself to methods/functions we have already discussed.\n",
    "\n",
    "**Hint**: The *sorted* function has an optional argument *key* that you can pass a function to such that *sorted* uses that function to determine the order of sorting (see documentation [here](https://www.w3schools.com/python/ref_func_sorted.asp))"
   ]
  },
  {
   "cell_type": "code",
   "execution_count": 25,
   "metadata": {},
   "outputs": [
    {
     "name": "stdout",
     "output_type": "stream",
     "text": [
      "foot\n",
      "['aardvark', 'banana', 'foot', 'peanut', 'python', 'xylophone']\n"
     ]
    }
   ],
   "source": [
    "words_lst = ['banana ', ' peanut  ', 'xylophone  ', 'aardvark  ', 'foot       ', 'python    ']\n",
    "# insert code here"
   ]
  },
  {
   "cell_type": "markdown",
   "metadata": {},
   "source": [
    "Correct output: foot\n"
   ]
  }
 ],
 "metadata": {
  "kernelspec": {
   "display_name": "Python 3",
   "language": "python",
   "name": "python3"
  },
  "language_info": {
   "codemirror_mode": {
    "name": "ipython",
    "version": 3
   },
   "file_extension": ".py",
   "mimetype": "text/x-python",
   "name": "python",
   "nbconvert_exporter": "python",
   "pygments_lexer": "ipython3",
   "version": "3.6.8"
  }
 },
 "nbformat": 4,
 "nbformat_minor": 2
}
